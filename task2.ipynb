{
 "cells": [
  {
   "cell_type": "code",
   "execution_count": 134,
   "metadata": {},
   "outputs": [],
   "source": [
    "import base64\n",
    "from IPython.display import Image, display\n",
    "import re\n",
    "\n",
    "TESTCASE1 = \"SELECT [ ENAME = 'Mary' & DNAME = 'Research' ] ( EMPLOYEE JOIN DEPARTMENT )\"\n",
    "TESTCASE2 = \"PROJECTION [ BDATE ] ( SELECT [ ENAME = 'John' & DNAME = ' Research' ] ( EMPLOYEE JOIN DEPARTMENT) )\"\n",
    "TESTCASE3 = \"SELECT [ ESSN = '01' ] ( PROJECTION [ ESSN, PNAME ] ( WORKS_ON JOIN PROJECT ) )\"\n",
    "\n",
    "RELATION_DEF = {\n",
    "    \"EMPLOYEE\": [\"ENAME\", \"BDATE\"],\n",
    "    \"DEPARTMENT\": [\"DNAME\"],\n",
    "    \"PROJECT\": [\"PNAME\"],\n",
    "    \"WORKS_ON\": [\"ESSN\"]\n",
    "}"
   ]
  },
  {
   "cell_type": "code",
   "execution_count": 157,
   "metadata": {},
   "outputs": [],
   "source": [
    "def mm(graph):\n",
    "  '''Render mermaid graph'''\n",
    "  graphbytes = graph.encode(\"ascii\")\n",
    "  base64_bytes = base64.b64encode(graphbytes)\n",
    "  base64_string = base64_bytes.decode(\"ascii\")\n",
    "  display(Image(url=\"https://mermaid.ink/img/\" + base64_string))\n",
    "\n",
    "class Node:\n",
    "    name = \"A\"\n",
    "    def __init__(self, node_type, params, children, name=None, parent=None):\n",
    "        self.node_type = node_type\n",
    "        self.params = params\n",
    "        self.children = children if children else []\n",
    "        self.parent = parent\n",
    "        for child in self.children:\n",
    "            child.parent = self\n",
    "        if name:\n",
    "            self.name = name\n",
    "        else:\n",
    "            self.name = Node.name\n",
    "            Node.name = chr(ord(Node.name) + 1)\n",
    "        self.colunms = None\n",
    "\n",
    "    def update_colunms(self):\n",
    "        '''Calculate available colunms for each node'''\n",
    "        for child in self.children:\n",
    "            child.update_colunms()\n",
    "        if self.node_type == \"RELATION\":\n",
    "            self.colunms = RELATION_DEF[self.name]\n",
    "        elif self.node_type == \"PROJECTION\":\n",
    "            self.colunms = self.children[0].colunms\n",
    "            project_cols = [s.strip() for s in self.params.split(\",\")]\n",
    "            self.colunms = [colunm for colunm in self.colunms if colunm in project_cols]\n",
    "        elif self.node_type == \"SELECT\":\n",
    "            self.colunms = self.children[0].colunms\n",
    "        elif self.node_type == \"JOIN\":\n",
    "            self.colunms = self.children[0].colunms + self.children[1].colunms\n",
    "\n",
    "    def allChildren(self):\n",
    "        '''Apply func to all children'''\n",
    "        def _collect_children(node, children):\n",
    "            '''Collect all children'''\n",
    "            for child in node.children:\n",
    "                child.parent = node\n",
    "                _collect_children(child, children)\n",
    "                children.append(node)\n",
    "        all_children = [self]\n",
    "        _collect_children(self, all_children)\n",
    "        for child in all_children:\n",
    "            yield child\n",
    "\n",
    "    def addChild(self, child):\n",
    "        '''Add a child to the node'''\n",
    "        child.parent = self\n",
    "        self.children.append(child)\n",
    "    \n",
    "    def removeChild(self, child):\n",
    "        '''Remove a child from the node'''\n",
    "        self.children.remove(child)\n",
    "\n",
    "    def decompose(self):\n",
    "        '''Turn SELECT [A & B] (xxxx) into SELECT [A] (SELECT [B] (xxxx))'''\n",
    "        if self.node_type != \"SELECT\" or \"&\" not in self.params:\n",
    "            return\n",
    "        params = self.params\n",
    "        self.params = params.split(\"&\")[0].strip()\n",
    "        self.children = [Node(\"SELECT\", params=params.split(\"&\")[1].strip(), children=[self.children[0]], parent=self)]\n",
    "\n",
    "    def push_down(self, verbose=False) -> bool:\n",
    "        '''\n",
    "        1. Turn SELECT [A] (PROJECTION [B] (xxxx)) into PROJECTION [B] (SELECT [A] (xxxx))\n",
    "        2. Turn SELECT [A] (RA JOIN RB) into RA JOIN SELECT [A] (RB) if applicable\n",
    "        3. Turn PROJECTION [A] (RA JOIN RB) into RA JOIN PROJECTION [A] (RB) if applicable\n",
    "        4. Turn PROJECTION [A, B] (RA JOIN RB) into JOIN (PROJECTION [A] (RA)) (PROJECTION [B] (RB)) if applicable\n",
    "        return true if any change is made\n",
    "        '''\n",
    "                \n",
    "        if self.node_type == \"SELECT\":\n",
    "            # case 1\n",
    "            if self.children[0].node_type == \"PROJECTION\":\n",
    "                if verbose:\n",
    "                    print(f\"case 1: Push SELECT {self.name} down to PROJECTION {self.children[0].name}\")\n",
    "                projection_node = self.children[0]\n",
    "                self.parent.removeChild(self)\n",
    "                self.parent.addChild(projection_node)\n",
    "                self.removeChild(projection_node)\n",
    "                self.addChild(projection_node.children[0])\n",
    "                projection_node.removeChild(projection_node.children[0])\n",
    "                projection_node.addChild(self)\n",
    "                return True\n",
    "            # case 2\n",
    "            elif self.children[0].node_type == \"JOIN\":\n",
    "                if verbose:\n",
    "                    print(f\"case 2: Push SELECT {self.name} down to JOIN {self.children[0].name}\")\n",
    "                col_name = self.params.split(\"=\")[0].strip()\n",
    "                join_node = self.children[0]\n",
    "                for idx, child in enumerate(join_node.children):\n",
    "                    if col_name in child.colunms:\n",
    "                        self.parent.removeChild(self)\n",
    "                        self.parent.addChild(join_node)\n",
    "                        join_node.children[idx], self.children[0] = self, join_node.children[idx]\n",
    "                        join_node.parent, self.parent = self, join_node.parent\n",
    "                        return True\n",
    "        if self.node_type == \"PROJECTION\" and self.children[0].node_type == \"JOIN\":\n",
    "            # case 3\n",
    "            if verbose:\n",
    "                print(f\"case 3&4: Push PROJECTION {self.name} down to JOIN {self.children[0].name}\")\n",
    "            old_join_node = self.children[0]\n",
    "            new_join_node = Node(\"JOIN\", params=None, children=[])\n",
    "            col_names = [s.strip() for s in self.params.split(\",\")]\n",
    "            # Create multiple PROJECTION nodes\n",
    "            changed = False\n",
    "            for idx, child in enumerate(old_join_node.children):\n",
    "                added_projection = False\n",
    "                for col in col_names:\n",
    "                    if col in child.colunms:\n",
    "                        new_join_node.addChild(Node(\"PROJECTION\", params=col, children=[child]))\n",
    "                        added_projection = True\n",
    "                        changed = True\n",
    "                if not added_projection:\n",
    "                    new_join_node.addChild(child)\n",
    "            if changed:\n",
    "                    self.parent.removeChild(self)\n",
    "                    self.parent.addChild(new_join_node)\n",
    "            return changed\n",
    "        return False\n",
    "\n",
    "    def __repr__(self):\n",
    "        if self.children:\n",
    "            return f\"{self.node_type}({', '.join(map(str, self.children))})\"\n",
    "        else:\n",
    "            return f\"{self.node_type}({self.name})\"\n",
    "\n",
    "    def mermaid(self):\n",
    "\n",
    "        def dfs(node:Node, mermaid_code):\n",
    "            if node.node_type == \"JOIN\":\n",
    "                mermaid_code.append(\"%s{%s}\" % (node.name, node.node_type))\n",
    "            else:\n",
    "                mermaid_code.append(f\"{node.name}[{node.node_type}-{node.name}]\")\n",
    "            for idx, child in enumerate(node.children):\n",
    "                mermaid_code.extend(dfs(child, []))\n",
    "                params_str = f\"|{node.params}|\" if node.params else \"\"\n",
    "                mermaid_code.append(f\"{child.name}-->{params_str}{node.name}\")\n",
    "            return mermaid_code\n",
    "\n",
    "        mermaid_code = [\"graph BT\"]\n",
    "        mermaid_code.extend(dfs(self, []))\n",
    "        mermaid_str = \"\\n\".join(mermaid_code)\n",
    "        # print(mermaid_str)\n",
    "        mm(mermaid_str)\n",
    "\n",
    "def parse_query(query, verbose=False):\n",
    "    # 匹配 SELECT、PROJECTION、JOIN 等关键词\n",
    "    if verbose:\n",
    "        print(\"Parsing: \", query)\n",
    "    match = re.search(\n",
    "        r\"SELECT|PROJECTION|JOIN\", query)\n",
    "    if match:\n",
    "        node_type = match.group(0)\n",
    "        params = None\n",
    "        if node_type in [\"SELECT\", \"PROJECTION\"]:\n",
    "            params = re.search(r'\\[([^\\[\\]]*(?:\\[[^\\[\\]]*\\])?[^\\[\\]]*)\\]', query).group(1).strip()\n",
    "            child_str = re.search(r'\\((.*)\\)', query).group(1).strip()\n",
    "            if verbose:\n",
    "                print(\"Found: \", node_type, \"+\", params, \"+\", child_str)\n",
    "            child = parse_query(child_str, verbose)\n",
    "            if child is None:\n",
    "                return Node(node_type, params, [])\n",
    "            else:\n",
    "                return Node(node_type, params, [child])\n",
    "        elif node_type == \"JOIN\":\n",
    "            left, right = re.split(r\"\\s*JOIN\\s*\", query)\n",
    "            if verbose:\n",
    "                print(\"Found: \", node_type, \" + \", left, \" + \", right)\n",
    "            return Node(node_type, None, [parse_query(left), parse_query(right)])\n",
    "    # is a relation name\n",
    "    return Node(\"RELATION\", None, [], query.strip())"
   ]
  },
  {
   "cell_type": "code",
   "execution_count": 160,
   "metadata": {},
   "outputs": [
    {
     "name": "stdout",
     "output_type": "stream",
     "text": [
      "Initial:\n"
     ]
    },
    {
     "data": {
      "text/html": [
       "<img src=\"https://mermaid.ink/img/Z3JhcGggQlQKTFtST09ULUxdCk9bU0VMRUNULU9dCk5bUFJPSkVDVElPTi1OXQpNe0pPSU59CldPUktTX09OW1JFTEFUSU9OLVdPUktTX09OXQpXT1JLU19PTi0tPk0KUFJPSkVDVFtSRUxBVElPTi1QUk9KRUNUXQpQUk9KRUNULS0+TQpNLS0+fEVTU04sIFBOQU1FfE4KTi0tPnxFU1NOID0gJzAxJ3xPCk8tLT5M\"/>"
      ],
      "text/plain": [
       "<IPython.core.display.Image object>"
      ]
     },
     "metadata": {},
     "output_type": "display_data"
    },
    {
     "name": "stdout",
     "output_type": "stream",
     "text": [
      "After decompose:\n"
     ]
    },
    {
     "data": {
      "text/html": [
       "<img src=\"https://mermaid.ink/img/Z3JhcGggQlQKTFtST09ULUxdCk9bU0VMRUNULU9dCk5bUFJPSkVDVElPTi1OXQpNe0pPSU59CldPUktTX09OW1JFTEFUSU9OLVdPUktTX09OXQpXT1JLU19PTi0tPk0KUFJPSkVDVFtSRUxBVElPTi1QUk9KRUNUXQpQUk9KRUNULS0+TQpNLS0+fEVTU04sIFBOQU1FfE4KTi0tPnxFU1NOID0gJzAxJ3xPCk8tLT5M\"/>"
      ],
      "text/plain": [
       "<IPython.core.display.Image object>"
      ]
     },
     "metadata": {},
     "output_type": "display_data"
    },
    {
     "name": "stdout",
     "output_type": "stream",
     "text": [
      "Push down for the 1th time:\n",
      "case 3&4: Push PROJECTION N down to JOIN M\n",
      "case 2: Push SELECT O down to JOIN P\n"
     ]
    },
    {
     "data": {
      "text/html": [
       "<img src=\"https://mermaid.ink/img/Z3JhcGggQlQKTFtST09ULUxdClB7Sk9JTn0KT1tTRUxFQ1QtT10KUVtQUk9KRUNUSU9OLVFdCldPUktTX09OW1JFTEFUSU9OLVdPUktTX09OXQpXT1JLU19PTi0tPnxFU1NOfFEKUS0tPnxFU1NOID0gJzAxJ3xPCk8tLT5QClJbUFJPSkVDVElPTi1SXQpQUk9KRUNUW1JFTEFUSU9OLVBST0pFQ1RdClBST0pFQ1QtLT58UE5BTUV8UgpSLS0+UApQLS0+TA==\"/>"
      ],
      "text/plain": [
       "<IPython.core.display.Image object>"
      ]
     },
     "metadata": {},
     "output_type": "display_data"
    },
    {
     "name": "stdout",
     "output_type": "stream",
     "text": [
      "Push down for the 2th time:\n",
      "case 1: Push SELECT O down to PROJECTION Q\n"
     ]
    },
    {
     "data": {
      "text/html": [
       "<img src=\"https://mermaid.ink/img/Z3JhcGggQlQKTFtST09ULUxdClB7Sk9JTn0KUltQUk9KRUNUSU9OLVJdClBST0pFQ1RbUkVMQVRJT04tUFJPSkVDVF0KUFJPSkVDVC0tPnxQTkFNRXxSClItLT5QClFbUFJPSkVDVElPTi1RXQpPW1NFTEVDVC1PXQpXT1JLU19PTltSRUxBVElPTi1XT1JLU19PTl0KV09SS1NfT04tLT58RVNTTiA9ICcwMSd8TwpPLS0+fEVTU058UQpRLS0+UApQLS0+TA==\"/>"
      ],
      "text/plain": [
       "<IPython.core.display.Image object>"
      ]
     },
     "metadata": {},
     "output_type": "display_data"
    },
    {
     "name": "stdout",
     "output_type": "stream",
     "text": [
      "Push down for the 3th time:\n",
      "No more changes!\n",
      "Finished!\n"
     ]
    }
   ],
   "source": [
    "print(\"Initial:\")\n",
    "tree_root = Node(\"ROOT\", None, [])\n",
    "tree_root.addChild(parse_query(TESTCASE3))\n",
    "tree_root.mermaid()\n",
    "\n",
    "print(\"After decompose:\")\n",
    "for node in tree_root.allChildren():\n",
    "    node.decompose()\n",
    "tree_root.mermaid()\n",
    "\n",
    "for i in range(1, 10):\n",
    "    print(f\"Push down for the {i}th time:\")\n",
    "    changed = False\n",
    "    for node in tree_root.allChildren():\n",
    "        tree_root.update_colunms()\n",
    "        changed |= node.push_down(verbose=True)    \n",
    "    if changed:\n",
    "        tree_root.mermaid()\n",
    "    else:\n",
    "        print(\"No more changes!\")\n",
    "        break\n",
    "print(\"Finished!\")"
   ]
  },
  {
   "cell_type": "code",
   "execution_count": null,
   "metadata": {},
   "outputs": [],
   "source": []
  }
 ],
 "metadata": {
  "kernelspec": {
   "display_name": "base",
   "language": "python",
   "name": "python3"
  },
  "language_info": {
   "codemirror_mode": {
    "name": "ipython",
    "version": 3
   },
   "file_extension": ".py",
   "mimetype": "text/x-python",
   "name": "python",
   "nbconvert_exporter": "python",
   "pygments_lexer": "ipython3",
   "version": "3.9.13"
  },
  "orig_nbformat": 4
 },
 "nbformat": 4,
 "nbformat_minor": 2
}
